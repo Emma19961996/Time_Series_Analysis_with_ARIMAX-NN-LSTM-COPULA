{
  "cells": [
    {
      "cell_type": "code",
      "execution_count": null,
      "metadata": {
        "colab": {
          "base_uri": "https://localhost:8080/"
        },
        "id": "RaGOiMlJi0Iy",
        "outputId": "c43800d5-5dd3-4328-ffe1-c8c11af6c42b"
      },
      "outputs": [
        {
          "output_type": "stream",
          "name": "stdout",
          "text": [
            "Mounted at /content/gdrive\n"
          ]
        }
      ],
      "source": [
        "from google.colab import drive\n",
        "drive.mount('/content/gdrive')"
      ]
    },
    {
      "cell_type": "code",
      "execution_count": null,
      "metadata": {
        "id": "MYKTmzeGjK_Y"
      },
      "outputs": [],
      "source": [
        "#Importing Libraries\n",
        "import pandas as pd\n",
        "import numpy as np\n",
        "from statsmodels.tsa.arima.model import ARIMA\n",
        "from sklearn.metrics import mean_squared_error, mean_absolute_error"
      ]
    },
    {
      "cell_type": "code",
      "execution_count": null,
      "metadata": {
        "id": "NMtcq0oLnufj"
      },
      "outputs": [],
      "source": [
        "# Load and preprocess the time series data\n",
        "df = pd.read_excel('/content/gdrive/My Drive/Green7.xlsx')\n",
        "df['Dates'] = pd.to_datetime(df['Dates'])\n",
        "df.set_index('Dates', inplace=True)\n",
        "df.sort_index(inplace=True)"
      ]
    },
    {
      "cell_type": "code",
      "execution_count": null,
      "metadata": {
        "id": "DTt-rObpnuc1"
      },
      "outputs": [],
      "source": [
        "# Create the lag columns\n",
        "lags = [1, 2, 3, 4, 5, 25]\n",
        "\n",
        "for lag in lags:\n",
        "    column_name = f'lag{lag}'\n",
        "    df[column_name] = df['GreenBond'].shift(lag)     "
      ]
    },
    {
      "cell_type": "code",
      "execution_count": null,
      "metadata": {
        "id": "ckt5VXxdnuYq"
      },
      "outputs": [],
      "source": [
        "#fill NAn values with zeros\n",
        "df = df.fillna(0)"
      ]
    },
    {
      "cell_type": "code",
      "execution_count": null,
      "metadata": {
        "colab": {
          "base_uri": "https://localhost:8080/",
          "height": 269
        },
        "id": "xkpVYFUnnuVE",
        "outputId": "279cf0a4-f60d-4d89-ea9c-174cc05fc3cb"
      },
      "outputs": [
        {
          "output_type": "execute_result",
          "data": {
            "text/plain": [
              "            GreenBond    lag1    lag2    lag3    lag4    lag5  lag25  lag75\n",
              "Dates                                                                      \n",
              "2021-01-04     158.98    0.00    0.00    0.00    0.00    0.00    0.0    0.0\n",
              "2021-01-05     158.99  158.98    0.00    0.00    0.00    0.00    0.0    0.0\n",
              "2021-01-06     158.77  158.99  158.98    0.00    0.00    0.00    0.0    0.0\n",
              "2021-01-07     158.50  158.77  158.99  158.98    0.00    0.00    0.0    0.0\n",
              "2021-01-08     158.51  158.50  158.77  158.99  158.98    0.00    0.0    0.0\n",
              "2021-01-11     157.40  158.51  158.50  158.77  158.99  158.98    0.0    0.0"
            ],
            "text/html": [
              "\n",
              "  <div id=\"df-d1ffdfaa-6942-4245-9584-e8ca2c53ae6c\">\n",
              "    <div class=\"colab-df-container\">\n",
              "      <div>\n",
              "<style scoped>\n",
              "    .dataframe tbody tr th:only-of-type {\n",
              "        vertical-align: middle;\n",
              "    }\n",
              "\n",
              "    .dataframe tbody tr th {\n",
              "        vertical-align: top;\n",
              "    }\n",
              "\n",
              "    .dataframe thead th {\n",
              "        text-align: right;\n",
              "    }\n",
              "</style>\n",
              "<table border=\"1\" class=\"dataframe\">\n",
              "  <thead>\n",
              "    <tr style=\"text-align: right;\">\n",
              "      <th></th>\n",
              "      <th>GreenBond</th>\n",
              "      <th>lag1</th>\n",
              "      <th>lag2</th>\n",
              "      <th>lag3</th>\n",
              "      <th>lag4</th>\n",
              "      <th>lag5</th>\n",
              "      <th>lag25</th>\n",
              "      <th>lag75</th>\n",
              "    </tr>\n",
              "    <tr>\n",
              "      <th>Dates</th>\n",
              "      <th></th>\n",
              "      <th></th>\n",
              "      <th></th>\n",
              "      <th></th>\n",
              "      <th></th>\n",
              "      <th></th>\n",
              "      <th></th>\n",
              "      <th></th>\n",
              "    </tr>\n",
              "  </thead>\n",
              "  <tbody>\n",
              "    <tr>\n",
              "      <th>2021-01-04</th>\n",
              "      <td>158.98</td>\n",
              "      <td>0.00</td>\n",
              "      <td>0.00</td>\n",
              "      <td>0.00</td>\n",
              "      <td>0.00</td>\n",
              "      <td>0.00</td>\n",
              "      <td>0.0</td>\n",
              "      <td>0.0</td>\n",
              "    </tr>\n",
              "    <tr>\n",
              "      <th>2021-01-05</th>\n",
              "      <td>158.99</td>\n",
              "      <td>158.98</td>\n",
              "      <td>0.00</td>\n",
              "      <td>0.00</td>\n",
              "      <td>0.00</td>\n",
              "      <td>0.00</td>\n",
              "      <td>0.0</td>\n",
              "      <td>0.0</td>\n",
              "    </tr>\n",
              "    <tr>\n",
              "      <th>2021-01-06</th>\n",
              "      <td>158.77</td>\n",
              "      <td>158.99</td>\n",
              "      <td>158.98</td>\n",
              "      <td>0.00</td>\n",
              "      <td>0.00</td>\n",
              "      <td>0.00</td>\n",
              "      <td>0.0</td>\n",
              "      <td>0.0</td>\n",
              "    </tr>\n",
              "    <tr>\n",
              "      <th>2021-01-07</th>\n",
              "      <td>158.50</td>\n",
              "      <td>158.77</td>\n",
              "      <td>158.99</td>\n",
              "      <td>158.98</td>\n",
              "      <td>0.00</td>\n",
              "      <td>0.00</td>\n",
              "      <td>0.0</td>\n",
              "      <td>0.0</td>\n",
              "    </tr>\n",
              "    <tr>\n",
              "      <th>2021-01-08</th>\n",
              "      <td>158.51</td>\n",
              "      <td>158.50</td>\n",
              "      <td>158.77</td>\n",
              "      <td>158.99</td>\n",
              "      <td>158.98</td>\n",
              "      <td>0.00</td>\n",
              "      <td>0.0</td>\n",
              "      <td>0.0</td>\n",
              "    </tr>\n",
              "    <tr>\n",
              "      <th>2021-01-11</th>\n",
              "      <td>157.40</td>\n",
              "      <td>158.51</td>\n",
              "      <td>158.50</td>\n",
              "      <td>158.77</td>\n",
              "      <td>158.99</td>\n",
              "      <td>158.98</td>\n",
              "      <td>0.0</td>\n",
              "      <td>0.0</td>\n",
              "    </tr>\n",
              "  </tbody>\n",
              "</table>\n",
              "</div>\n",
              "      <button class=\"colab-df-convert\" onclick=\"convertToInteractive('df-d1ffdfaa-6942-4245-9584-e8ca2c53ae6c')\"\n",
              "              title=\"Convert this dataframe to an interactive table.\"\n",
              "              style=\"display:none;\">\n",
              "        \n",
              "  <svg xmlns=\"http://www.w3.org/2000/svg\" height=\"24px\"viewBox=\"0 0 24 24\"\n",
              "       width=\"24px\">\n",
              "    <path d=\"M0 0h24v24H0V0z\" fill=\"none\"/>\n",
              "    <path d=\"M18.56 5.44l.94 2.06.94-2.06 2.06-.94-2.06-.94-.94-2.06-.94 2.06-2.06.94zm-11 1L8.5 8.5l.94-2.06 2.06-.94-2.06-.94L8.5 2.5l-.94 2.06-2.06.94zm10 10l.94 2.06.94-2.06 2.06-.94-2.06-.94-.94-2.06-.94 2.06-2.06.94z\"/><path d=\"M17.41 7.96l-1.37-1.37c-.4-.4-.92-.59-1.43-.59-.52 0-1.04.2-1.43.59L10.3 9.45l-7.72 7.72c-.78.78-.78 2.05 0 2.83L4 21.41c.39.39.9.59 1.41.59.51 0 1.02-.2 1.41-.59l7.78-7.78 2.81-2.81c.8-.78.8-2.07 0-2.86zM5.41 20L4 18.59l7.72-7.72 1.47 1.35L5.41 20z\"/>\n",
              "  </svg>\n",
              "      </button>\n",
              "      \n",
              "  <style>\n",
              "    .colab-df-container {\n",
              "      display:flex;\n",
              "      flex-wrap:wrap;\n",
              "      gap: 12px;\n",
              "    }\n",
              "\n",
              "    .colab-df-convert {\n",
              "      background-color: #E8F0FE;\n",
              "      border: none;\n",
              "      border-radius: 50%;\n",
              "      cursor: pointer;\n",
              "      display: none;\n",
              "      fill: #1967D2;\n",
              "      height: 32px;\n",
              "      padding: 0 0 0 0;\n",
              "      width: 32px;\n",
              "    }\n",
              "\n",
              "    .colab-df-convert:hover {\n",
              "      background-color: #E2EBFA;\n",
              "      box-shadow: 0px 1px 2px rgba(60, 64, 67, 0.3), 0px 1px 3px 1px rgba(60, 64, 67, 0.15);\n",
              "      fill: #174EA6;\n",
              "    }\n",
              "\n",
              "    [theme=dark] .colab-df-convert {\n",
              "      background-color: #3B4455;\n",
              "      fill: #D2E3FC;\n",
              "    }\n",
              "\n",
              "    [theme=dark] .colab-df-convert:hover {\n",
              "      background-color: #434B5C;\n",
              "      box-shadow: 0px 1px 3px 1px rgba(0, 0, 0, 0.15);\n",
              "      filter: drop-shadow(0px 1px 2px rgba(0, 0, 0, 0.3));\n",
              "      fill: #FFFFFF;\n",
              "    }\n",
              "  </style>\n",
              "\n",
              "      <script>\n",
              "        const buttonEl =\n",
              "          document.querySelector('#df-d1ffdfaa-6942-4245-9584-e8ca2c53ae6c button.colab-df-convert');\n",
              "        buttonEl.style.display =\n",
              "          google.colab.kernel.accessAllowed ? 'block' : 'none';\n",
              "\n",
              "        async function convertToInteractive(key) {\n",
              "          const element = document.querySelector('#df-d1ffdfaa-6942-4245-9584-e8ca2c53ae6c');\n",
              "          const dataTable =\n",
              "            await google.colab.kernel.invokeFunction('convertToInteractive',\n",
              "                                                     [key], {});\n",
              "          if (!dataTable) return;\n",
              "\n",
              "          const docLinkHtml = 'Like what you see? Visit the ' +\n",
              "            '<a target=\"_blank\" href=https://colab.research.google.com/notebooks/data_table.ipynb>data table notebook</a>'\n",
              "            + ' to learn more about interactive tables.';\n",
              "          element.innerHTML = '';\n",
              "          dataTable['output_type'] = 'display_data';\n",
              "          await google.colab.output.renderOutput(dataTable, element);\n",
              "          const docLink = document.createElement('div');\n",
              "          docLink.innerHTML = docLinkHtml;\n",
              "          element.appendChild(docLink);\n",
              "        }\n",
              "      </script>\n",
              "    </div>\n",
              "  </div>\n",
              "  "
            ]
          },
          "metadata": {},
          "execution_count": 76
        }
      ],
      "source": [
        "df.head(6)"
      ]
    },
    {
      "cell_type": "code",
      "execution_count": null,
      "metadata": {
        "id": "e8G8x6xXnuNu"
      },
      "outputs": [],
      "source": [
        "#Importing Statistics libraries\n",
        "\n",
        "import matplotlib.pyplot as plt\n",
        "import statsmodels.api as sm\n",
        "from statsmodels.tsa.arima_model import ARIMA\n",
        "from sklearn.metrics import mean_squared_error\n",
        "import pandas as pd\n",
        "from statsmodels.tsa.arima.model import ARIMA\n",
        "import statsmodels.api as sm\n",
        "from sklearn.metrics import mean_squared_error, mean_absolute_error\n",
        "from statsmodels.graphics.tsaplots import plot_acf, plot_pacf\n",
        "from sklearn.metrics import mean_squared_error, mean_absolute_percentage_error\n",
        "from math import sqrt"
      ]
    },
    {
      "cell_type": "code",
      "execution_count": null,
      "metadata": {
        "colab": {
          "base_uri": "https://localhost:8080/",
          "height": 756
        },
        "id": "qbK_zwe3oTSr",
        "outputId": "d0ed2991-d4d0-4090-fd79-f8fa4dfa5769"
      },
      "outputs": [
        {
          "output_type": "stream",
          "name": "stderr",
          "text": [
            "/usr/local/lib/python3.10/dist-packages/statsmodels/graphics/tsaplots.py:348: FutureWarning: The default method 'yw' can produce PACF values outside of the [-1,1] interval. After 0.13, the default will change tounadjusted Yule-Walker ('ywm'). You can use this method now by setting method='ywm'.\n",
            "  warnings.warn(\n"
          ]
        },
        {
          "output_type": "display_data",
          "data": {
            "text/plain": [
              "<Figure size 1000x800 with 2 Axes>"
            ],
            "image/png": "[encoded data removed]"
          },
          "metadata": {}
        }
      ],
      "source": [
        "#plotting the PACF and ACF\n",
        "\n",
        "fig, (ax1, ax2) = plt.subplots(2, 1, figsize=(10, 8))\n",
        "plot_acf(df['GreenBond'], ax=ax1)\n",
        "plot_pacf(df['GreenBond'], ax=ax2)\n",
        "plt.show()"
      ]
    },
    {
      "cell_type": "code",
      "execution_count": null,
      "metadata": {
        "colab": {
          "base_uri": "https://localhost:8080/",
          "height": 756
        },
        "id": "zAhsdYmboTP5",
        "outputId": "48f23bc5-5d31-49fc-90de-1c87e57e921d"
      },
      "outputs": [
        {
          "output_type": "stream",
          "name": "stderr",
          "text": [
            "/usr/local/lib/python3.10/dist-packages/statsmodels/graphics/tsaplots.py:348: FutureWarning: The default method 'yw' can produce PACF values outside of the [-1,1] interval. After 0.13, the default will change tounadjusted Yule-Walker ('ywm'). You can use this method now by setting method='ywm'.\n",
            "  warnings.warn(\n"
          ]
        },
        {
          "output_type": "display_data",
          "data": {
            "text/plain": [
              "<Figure size 1000x800 with 2 Axes>"
            ],
            "image/png": "[encoded data removed]"
          },
          "metadata": {}
        }
      ],
      "source": [
        "#Perform first differencing and check the plots again\n",
        "\n",
        "df['diff'] = df['GreenBond'].diff().fillna(0)\n",
        "fig, (ax3, ax4) = plt.subplots(2, 1, figsize=(10, 8))\n",
        "plot_acf(df['diff'], ax=ax3)\n",
        "plot_pacf(df['diff'], ax=ax4)\n",
        "plt.show()"
      ]
    },
    {
      "cell_type": "code",
      "execution_count": null,
      "metadata": {
        "id": "YLA1-GYyoTN1"
      },
      "outputs": [],
      "source": [
        "# Split the data into exogenous variables (X) and endogenous variable (y)\n",
        "\n",
        "X = df[['lag1', 'lag2', 'lag3', 'lag4', 'lag5','lag25', 'lag75']]  # Replace 'lag1' to 'lag75' with the actual column names\n",
        "y = df['GreenBond']"
      ]
    },
    {
      "cell_type": "code",
      "execution_count": null,
      "metadata": {
        "colab": {
          "base_uri": "https://localhost:8080/"
        },
        "id": "momJFkdSoTLb",
        "outputId": "019dcc5f-293c-4159-97ab-f7b23896b07c"
      },
      "outputs": [
        {
          "output_type": "stream",
          "name": "stderr",
          "text": [
            "/usr/local/lib/python3.10/dist-packages/statsmodels/tsa/base/tsa_model.py:471: ValueWarning: A date index has been provided, but it has no associated frequency information and so will be ignored when e.g. forecasting.\n",
            "  self._init_dates(dates, freq)\n",
            "/usr/local/lib/python3.10/dist-packages/statsmodels/tsa/base/tsa_model.py:471: ValueWarning: A date index has been provided, but it has no associated frequency information and so will be ignored when e.g. forecasting.\n",
            "  self._init_dates(dates, freq)\n",
            "/usr/local/lib/python3.10/dist-packages/statsmodels/tsa/base/tsa_model.py:471: ValueWarning: A date index has been provided, but it has no associated frequency information and so will be ignored when e.g. forecasting.\n",
            "  self._init_dates(dates, freq)\n"
          ]
        },
        {
          "output_type": "stream",
          "name": "stdout",
          "text": [
            "                               SARIMAX Results                                \n",
            "==============================================================================\n",
            "Dep. Variable:              GreenBond   No. Observations:                  248\n",
            "Model:                 ARIMA(1, 1, 2)   Log Likelihood                -136.791\n",
            "Date:                Fri, 02 Jun 2023   AIC                            291.581\n",
            "Time:                        16:29:10   BIC                            323.166\n",
            "Sample:                             0   HQIC                           304.297\n",
            "                                - 248                                         \n",
            "Covariance Type:                  opg                                         \n",
            "==============================================================================\n",
            "                 coef    std err          z      P>|z|      [0.025      0.975]\n",
            "------------------------------------------------------------------------------\n",
            "lag1           0.0002      0.073      0.002      0.998      -0.143       0.144\n",
            "lag2          -0.0013      0.071     -0.019      0.985      -0.141       0.138\n",
            "lag3          -0.0017      0.058     -0.029      0.977      -0.116       0.113\n",
            "lag4       -8.672e-05      0.038     -0.002      0.998      -0.074       0.074\n",
            "lag5          -0.0070      0.042     -0.168      0.867      -0.088       0.075\n",
            "ar.L1          0.8227      0.425      1.937      0.053      -0.010       1.655\n",
            "ma.L1         -0.7517      0.447     -1.682      0.093      -1.628       0.124\n",
            "ma.L2         -0.0953      0.106     -0.901      0.368      -0.303       0.112\n",
            "sigma2         0.1768      0.012     14.373      0.000       0.153       0.201\n",
            "===================================================================================\n",
            "Ljung-Box (L1) (Q):                   0.01   Jarque-Bera (JB):                34.47\n",
            "Prob(Q):                              0.91   Prob(JB):                         0.00\n",
            "Heteroskedasticity (H):               1.69   Skew:                            -0.40\n",
            "Prob(H) (two-sided):                  0.02   Kurtosis:                         4.64\n",
            "===================================================================================\n",
            "\n",
            "Warnings:\n",
            "[1] Covariance matrix calculated using the outer product of gradients (complex-step).\n"
          ]
        },
        {
          "output_type": "stream",
          "name": "stderr",
          "text": [
            "/usr/local/lib/python3.10/dist-packages/statsmodels/base/model.py:604: ConvergenceWarning: Maximum Likelihood optimization failed to converge. Check mle_retvals\n",
            "  warnings.warn(\"Maximum Likelihood optimization failed to \"\n"
          ]
        }
      ],
      "source": [
        "#Creating ARIMAX models\n",
        "\n",
        "model = sm.tsa.ARIMA(y, order=(1, 1, 2), exog=X)\n",
        "results = model.fit()\n",
        "print(results.summary())"
      ]
    },
    {
      "cell_type": "code",
      "execution_count": null,
      "metadata": {
        "colab": {
          "base_uri": "https://localhost:8080/"
        },
        "id": "SiJo6bFxoTJJ",
        "outputId": "ee8f03a8-3b8a-4c11-b14d-7780d3e29bd3"
      },
      "outputs": [
        {
          "output_type": "stream",
          "name": "stderr",
          "text": [
            "/usr/local/lib/python3.10/dist-packages/statsmodels/tsa/base/tsa_model.py:471: ValueWarning: A date index has been provided, but it has no associated frequency information and so will be ignored when e.g. forecasting.\n",
            "  self._init_dates(dates, freq)\n",
            "/usr/local/lib/python3.10/dist-packages/statsmodels/tsa/base/tsa_model.py:471: ValueWarning: A date index has been provided, but it has no associated frequency information and so will be ignored when e.g. forecasting.\n",
            "  self._init_dates(dates, freq)\n",
            "/usr/local/lib/python3.10/dist-packages/statsmodels/tsa/base/tsa_model.py:471: ValueWarning: A date index has been provided, but it has no associated frequency information and so will be ignored when e.g. forecasting.\n",
            "  self._init_dates(dates, freq)\n"
          ]
        },
        {
          "output_type": "stream",
          "name": "stdout",
          "text": [
            "                               SARIMAX Results                                \n",
            "==============================================================================\n",
            "Dep. Variable:              GreenBond   No. Observations:                  248\n",
            "Model:                 ARIMA(1, 1, 1)   Log Likelihood                -137.047\n",
            "Date:                Fri, 02 Jun 2023   AIC                            290.094\n",
            "Time:                        16:29:41   BIC                            318.169\n",
            "Sample:                             0   HQIC                           301.397\n",
            "                                - 248                                         \n",
            "Covariance Type:                  opg                                         \n",
            "==============================================================================\n",
            "                 coef    std err          z      P>|z|      [0.025      0.975]\n",
            "------------------------------------------------------------------------------\n",
            "lag1         6.09e-05      0.384      0.000      1.000      -0.753       0.753\n",
            "lag2          -0.0015      0.060     -0.024      0.981      -0.120       0.117\n",
            "lag3          -0.0018      0.062     -0.029      0.977      -0.124       0.121\n",
            "lag4        -7.84e-05      0.044     -0.002      0.999      -0.086       0.086\n",
            "lag5          -0.0069      0.042     -0.163      0.870      -0.090       0.076\n",
            "ar.L1         -0.3982      1.982     -0.201      0.841      -4.284       3.487\n",
            "ma.L1          0.4762      1.632      0.292      0.770      -2.723       3.676\n",
            "sigma2         0.1776      0.012     14.473      0.000       0.154       0.202\n",
            "===================================================================================\n",
            "Ljung-Box (L1) (Q):                   0.02   Jarque-Bera (JB):                38.77\n",
            "Prob(Q):                              0.89   Prob(JB):                         0.00\n",
            "Heteroskedasticity (H):               1.69   Skew:                            -0.37\n",
            "Prob(H) (two-sided):                  0.02   Kurtosis:                         4.79\n",
            "===================================================================================\n",
            "\n",
            "Warnings:\n",
            "[1] Covariance matrix calculated using the outer product of gradients (complex-step).\n"
          ]
        }
      ],
      "source": [
        "#Creating another ARIMAX models\n",
        "\n",
        "model1 = sm.tsa.ARIMA(y, order=(1, 1, 1), exog=X)\n",
        "results = model1.fit()\n",
        "print(results.summary())"
      ]
    },
    {
      "cell_type": "code",
      "execution_count": null,
      "metadata": {
        "id": "L5A4-qxIoTGw"
      },
      "outputs": [],
      "source": [
        "# Obtain the residuals\n",
        "residuals = results.resid"
      ]
    },
    {
      "cell_type": "code",
      "execution_count": null,
      "metadata": {
        "id": "DNr83-xzoTEk"
      },
      "outputs": [],
      "source": [
        "# Split the data into train and test sets\n",
        "train_size = int(len(df) * 0.8)  # 80% for training\n",
        "train, test = df[:train_size], df[train_size:]"
      ]
    },
    {
      "cell_type": "code",
      "execution_count": null,
      "metadata": {
        "id": "YmdQFEgyoTCA"
      },
      "outputs": [],
      "source": [
        "# Separate the exogenous variables for train and test sets\n",
        "train_X, test_X = train[['lag1', 'lag2', 'lag3', 'lag4', 'lag5']], test[['lag1', 'lag2', 'lag3', 'lag4', 'lag5']]"
      ]
    },
    {
      "cell_type": "code",
      "execution_count": null,
      "metadata": {
        "id": "uzKoETbUo_-6"
      },
      "outputs": [],
      "source": [
        "# Separate the endogenous variable for train and test sets\n",
        "train_y, test_y = train['GreenBond'], test['GreenBond']"
      ]
    },
    {
      "cell_type": "code",
      "execution_count": null,
      "metadata": {
        "id": "k870qiIjo_70"
      },
      "outputs": [],
      "source": [
        "# Predict the test set\n",
        "predictions = results.predict(start=len(train), end=len(train) + len(test) - 1, exog=test_X)"
      ]
    },
    {
      "cell_type": "code",
      "execution_count": null,
      "metadata": {
        "id": "hYozZIZJo_0C"
      },
      "outputs": [],
      "source": [
        "# Calculate evaluation metrics (RMSE, MAE, MAPE)\n",
        "from sklearn.metrics import mean_squared_error, mean_absolute_error"
      ]
    },
    {
      "cell_type": "code",
      "execution_count": null,
      "metadata": {
        "id": "IAy6x5Cao_vs"
      },
      "outputs": [],
      "source": [
        "rmse = np.sqrt(mean_squared_error(test_y, predictions))\n",
        "mae = mean_absolute_error(test_y, predictions)\n",
        "mape = np.mean(np.abs((test_y - predictions) / test_y)) * 100"
      ]
    },
    {
      "cell_type": "code",
      "execution_count": null,
      "metadata": {
        "colab": {
          "base_uri": "https://localhost:8080/"
        },
        "id": "LWA3w5oyejas",
        "outputId": "54285d20-5913-464f-9ab6-2734f3a523e1"
      },
      "outputs": [
        {
          "output_type": "stream",
          "name": "stdout",
          "text": [
            "Evaluation Metrics for Test Set:\n",
            "RMSE: 0.5201133808881668\n",
            "MAE: 0.38334511956152767\n",
            "MAPE: 0.2559031302569329\n"
          ]
        }
      ],
      "source": [
        "print(\"Evaluation Metrics for Test Set:\")\n",
        "print(\"RMSE:\", rmse)\n",
        "print(\"MAE:\", mae)\n",
        "print(\"MAPE:\", mape)"
      ]
    },
    {
      "cell_type": "code",
      "execution_count": null,
      "metadata": {
        "id": "BHyBtSQzepmj"
      },
      "outputs": [],
      "source": [
        "# Predict the train set\n",
        "train_predictions = results.predict(start=0, end=len(train) - 1, exog=train_X)"
      ]
    },
    {
      "cell_type": "code",
      "execution_count": null,
      "metadata": {
        "id": "U4c6cfPUepjf"
      },
      "outputs": [],
      "source": [
        "# Calculate AIC and BIC\n",
        "aic = results.aic\n",
        "bic = results.bic"
      ]
    },
    {
      "cell_type": "code",
      "execution_count": null,
      "metadata": {
        "colab": {
          "base_uri": "https://localhost:8080/"
        },
        "id": "xYB1nM7bo_sl",
        "outputId": "725842c8-81fc-4c2b-e0b2-f8f0a42014b3"
      },
      "outputs": [
        {
          "output_type": "stream",
          "name": "stdout",
          "text": [
            "AIC: 290.09371041149893\n",
            "BIC: 318.16881710452276\n"
          ]
        }
      ],
      "source": [
        "print(\"AIC:\", aic)\n",
        "print(\"BIC:\", bic)"
      ]
    },
    {
      "cell_type": "code",
      "execution_count": null,
      "metadata": {
        "id": "8CX4wltHoS_h"
      },
      "outputs": [],
      "source": []
    },
    {
      "cell_type": "code",
      "execution_count": null,
      "metadata": {
        "id": "Uk5dgFWRe3NU"
      },
      "outputs": [],
      "source": [
        "#Importing a library for Neural Network\n",
        "from sklearn.neural_network import MLPRegressor"
      ]
    },
    {
      "cell_type": "code",
      "execution_count": null,
      "metadata": {
        "id": "-UsPFbPEe3KL"
      },
      "outputs": [],
      "source": [
        "# Train a neural network with the residuals\n",
        "nn_model2 = MLPRegressor(hidden_layer_sizes=(100, 50, 30), random_state=42)"
      ]
    },
    {
      "cell_type": "code",
      "execution_count": null,
      "metadata": {
        "id": "nURBce4te3IH"
      },
      "outputs": [],
      "source": [
        "# Prepare  training data for the neural network\n",
        "train_X_nn = train_X.iloc[:len(train_y)]\n",
        "residuals_nn = residuals.iloc[:len(train_y)]"
      ]
    },
    {
      "cell_type": "code",
      "execution_count": null,
      "metadata": {
        "colab": {
          "base_uri": "https://localhost:8080/",
          "height": 75
        },
        "id": "wpuH18ste3GU",
        "outputId": "535b03bb-3dbb-454e-d689-df41eb033dd1"
      },
      "outputs": [
        {
          "output_type": "execute_result",
          "data": {
            "text/plain": [
              "MLPRegressor(hidden_layer_sizes=(100, 50, 30), random_state=42)"
            ],
            "text/html": [
              "<style>#sk-container-id-2 {color: black;background-color: white;}#sk-container-id-2 pre{padding: 0;}#sk-container-id-2 div.sk-toggleable {background-color: white;}#sk-container-id-2 label.sk-toggleable__label {cursor: pointer;display: block;width: 100%;margin-bottom: 0;padding: 0.3em;box-sizing: border-box;text-align: center;}#sk-container-id-2 label.sk-toggleable__label-arrow:before {content: \"▸\";float: left;margin-right: 0.25em;color: #696969;}#sk-container-id-2 label.sk-toggleable__label-arrow:hover:before {color: black;}#sk-container-id-2 div.sk-estimator:hover label.sk-toggleable__label-arrow:before {color: black;}#sk-container-id-2 div.sk-toggleable__content {max-height: 0;max-width: 0;overflow: hidden;text-align: left;background-color: #f0f8ff;}#sk-container-id-2 div.sk-toggleable__content pre {margin: 0.2em;color: black;border-radius: 0.25em;background-color: #f0f8ff;}#sk-container-id-2 input.sk-toggleable__control:checked~div.sk-toggleable__content {max-height: 200px;max-width: 100%;overflow: auto;}#sk-container-id-2 input.sk-toggleable__control:checked~label.sk-toggleable__label-arrow:before {content: \"▾\";}#sk-container-id-2 div.sk-estimator input.sk-toggleable__control:checked~label.sk-toggleable__label {background-color: #d4ebff;}#sk-container-id-2 div.sk-label input.sk-toggleable__control:checked~label.sk-toggleable__label {background-color: #d4ebff;}#sk-container-id-2 input.sk-hidden--visually {border: 0;clip: rect(1px 1px 1px 1px);clip: rect(1px, 1px, 1px, 1px);height: 1px;margin: -1px;overflow: hidden;padding: 0;position: absolute;width: 1px;}#sk-container-id-2 div.sk-estimator {font-family: monospace;background-color: #f0f8ff;border: 1px dotted black;border-radius: 0.25em;box-sizing: border-box;margin-bottom: 0.5em;}#sk-container-id-2 div.sk-estimator:hover {background-color: #d4ebff;}#sk-container-id-2 div.sk-parallel-item::after {content: \"\";width: 100%;border-bottom: 1px solid gray;flex-grow: 1;}#sk-container-id-2 div.sk-label:hover label.sk-toggleable__label {background-color: #d4ebff;}#sk-container-id-2 div.sk-serial::before {content: \"\";position: absolute;border-left: 1px solid gray;box-sizing: border-box;top: 0;bottom: 0;left: 50%;z-index: 0;}#sk-container-id-2 div.sk-serial {display: flex;flex-direction: column;align-items: center;background-color: white;padding-right: 0.2em;padding-left: 0.2em;position: relative;}#sk-container-id-2 div.sk-item {position: relative;z-index: 1;}#sk-container-id-2 div.sk-parallel {display: flex;align-items: stretch;justify-content: center;background-color: white;position: relative;}#sk-container-id-2 div.sk-item::before, #sk-container-id-2 div.sk-parallel-item::before {content: \"\";position: absolute;border-left: 1px solid gray;box-sizing: border-box;top: 0;bottom: 0;left: 50%;z-index: -1;}#sk-container-id-2 div.sk-parallel-item {display: flex;flex-direction: column;z-index: 1;position: relative;background-color: white;}#sk-container-id-2 div.sk-parallel-item:first-child::after {align-self: flex-end;width: 50%;}#sk-container-id-2 div.sk-parallel-item:last-child::after {align-self: flex-start;width: 50%;}#sk-container-id-2 div.sk-parallel-item:only-child::after {width: 0;}#sk-container-id-2 div.sk-dashed-wrapped {border: 1px dashed gray;margin: 0 0.4em 0.5em 0.4em;box-sizing: border-box;padding-bottom: 0.4em;background-color: white;}#sk-container-id-2 div.sk-label label {font-family: monospace;font-weight: bold;display: inline-block;line-height: 1.2em;}#sk-container-id-2 div.sk-label-container {text-align: center;}#sk-container-id-2 div.sk-container {/* jupyter's `normalize.less` sets `[hidden] { display: none; }` but bootstrap.min.css set `[hidden] { display: none !important; }` so we also need the `!important` here to be able to override the default hidden behavior on the sphinx rendered scikit-learn.org. See: https://github.com/scikit-learn/scikit-learn/issues/21755 */display: inline-block !important;position: relative;}#sk-container-id-2 div.sk-text-repr-fallback {display: none;}</style><div id=\"sk-container-id-2\" class=\"sk-top-container\"><div class=\"sk-text-repr-fallback\"><pre>MLPRegressor(hidden_layer_sizes=(100, 50, 30), random_state=42)</pre><b>In a Jupyter environment, please rerun this cell to show the HTML representation or trust the notebook. <br />On GitHub, the HTML representation is unable to render, please try loading this page with nbviewer.org.</b></div><div class=\"sk-container\" hidden><div class=\"sk-item\"><div class=\"sk-estimator sk-toggleable\"><input class=\"sk-toggleable__control sk-hidden--visually\" id=\"sk-estimator-id-2\" type=\"checkbox\" checked><label for=\"sk-estimator-id-2\" class=\"sk-toggleable__label sk-toggleable__label-arrow\">MLPRegressor</label><div class=\"sk-toggleable__content\"><pre>MLPRegressor(hidden_layer_sizes=(100, 50, 30), random_state=42)</pre></div></div></div></div></div>"
            ]
          },
          "metadata": {},
          "execution_count": 98
        }
      ],
      "source": [
        "nn_model2.fit(train_X_nn, residuals_nn)"
      ]
    },
    {
      "cell_type": "code",
      "execution_count": null,
      "metadata": {
        "id": "R6aSbI8YnuCc"
      },
      "outputs": [],
      "source": [
        "# Get neural network predictions for the test set\n",
        "nn_test_predictions2 = nn_model2.predict(test_X)"
      ]
    },
    {
      "cell_type": "code",
      "execution_count": null,
      "metadata": {
        "id": "_8Vx3m-ufCXU"
      },
      "outputs": [],
      "source": [
        "# Get neural network predictions for the train set\n",
        "nn_train_predictions2 = nn_model2.predict(train_X)"
      ]
    },
    {
      "cell_type": "code",
      "execution_count": null,
      "metadata": {
        "id": "ArrQnPTqfCUR"
      },
      "outputs": [],
      "source": [
        "#Combining ARIMAX test predictions with NN test predictions to establish a hybrid model\n",
        "integrated_test_predictions2 = (predictions + nn_test_predictions2)"
      ]
    },
    {
      "cell_type": "code",
      "execution_count": null,
      "metadata": {
        "colab": {
          "base_uri": "https://localhost:8080/"
        },
        "id": "sDGcFifGfO3x",
        "outputId": "6a0489ab-25a4-426a-cb13-6b11a345b5b3"
      },
      "outputs": [
        {
          "output_type": "stream",
          "name": "stdout",
          "text": [
            "Evaluation Metrics for Integrated Test Set:\n",
            "RMSE: 1.933974877492895\n",
            "MAE: 1.8593035849565729\n",
            "MAPE: 1.2394949629503467\n"
          ]
        }
      ],
      "source": [
        "# Calculate evaluation metrics (RMSE, MAE, MAPE) for hybrid test predictions\n",
        "integrated_rmse = np.sqrt(mean_squared_error(test_y, integrated_test_predictions2))\n",
        "integrated_mae = mean_absolute_error(test_y, integrated_test_predictions2)\n",
        "integrated_mape = np.mean(np.abs((test_y - integrated_test_predictions2) / test_y)) * 100\n",
        "\n",
        "print(\"Evaluation Metrics for Integrated Test Set:\")\n",
        "print(\"RMSE:\", integrated_rmse)\n",
        "print(\"MAE:\", integrated_mae)\n",
        "print(\"MAPE:\", integrated_mape)"
      ]
    },
    {
      "cell_type": "code",
      "execution_count": null,
      "metadata": {
        "id": "lRXRBqL6fO0S"
      },
      "outputs": [],
      "source": [
        "#Establishing a hybrid model for the train set\n",
        "integrated_train_predictions2 = (train_predictions + nn_train_predictions2)"
      ]
    },
    {
      "cell_type": "code",
      "execution_count": null,
      "metadata": {
        "colab": {
          "base_uri": "https://localhost:8080/"
        },
        "id": "RhkRIfT-fOyU",
        "outputId": "ed1c6db0-d1a1-4ce3-9920-0c3abe60a573"
      },
      "outputs": [
        {
          "output_type": "stream",
          "name": "stdout",
          "text": [
            "Evaluation Metrics for Integrated Train Set:\n",
            "RMSE: 11.460337449354837\n",
            "MAE: 2.7360153753146794\n",
            "MAPE: 1.7549282619256052\n"
          ]
        }
      ],
      "source": [
        "# Calculate evaluation metrics (RMSE, MAE, MAPE) for hybrid train predictions\n",
        "integrated_rmse = np.sqrt(mean_squared_error(train_y, integrated_train_predictions2))\n",
        "integrated_mae = mean_absolute_error(train_y, integrated_train_predictions2)\n",
        "integrated_mape = np.mean(np.abs((train_y - integrated_train_predictions2) / train_y)) * 100\n",
        "\n",
        "print(\"Evaluation Metrics for Integrated Train Set:\")\n",
        "print(\"RMSE:\", integrated_rmse)\n",
        "print(\"MAE:\", integrated_mae)\n",
        "print(\"MAPE:\", integrated_mape)"
      ]
    },
    {
      "cell_type": "code",
      "execution_count": null,
      "metadata": {
        "id": "yYo3hZ7dfOvy"
      },
      "outputs": [],
      "source": []
    },
    {
      "cell_type": "code",
      "execution_count": null,
      "metadata": {
        "id": "U6AdGKqqfOtM"
      },
      "outputs": [],
      "source": [
        "#Importing libraries for LSTM models\n",
        "from sklearn.preprocessing import MinMaxScaler\n",
        "from tensorflow.keras.models import Sequential\n",
        "from tensorflow.keras.layers import LSTM, Dense"
      ]
    },
    {
      "cell_type": "code",
      "execution_count": null,
      "metadata": {
        "id": "rHaRwPkDfOqu"
      },
      "outputs": [],
      "source": [
        "#Preparing the data for LSTM modelling\n",
        "\n",
        "train_size1 = int(len(residuals) * 0.8)  # 80% train set, 20% test set\n",
        "train_data1 = residuals[:train_size1]\n",
        "test_data1 = residuals[train_size1:]"
      ]
    },
    {
      "cell_type": "code",
      "execution_count": null,
      "metadata": {
        "id": "gU7-ZgKCfOop"
      },
      "outputs": [],
      "source": [
        "#Function to create Input and Output \n",
        "\n",
        "def prepare_data(residuals, n_steps):\n",
        "    X, y = [], []\n",
        "    for i in range(len(residuals) - n_steps):\n",
        "        X.append(residuals[i:i + n_steps])\n",
        "        y.append(residuals[i + n_steps])\n",
        "    X, y = np.array(X), np.array(y)\n",
        "    return X, y"
      ]
    },
    {
      "cell_type": "code",
      "execution_count": null,
      "metadata": {
        "id": "avyqeQwPfOmr"
      },
      "outputs": [],
      "source": [
        "n_steps = 2  # Number of time steps to consider\n",
        "X_train, y_train = prepare_data(train_data1, n_steps)\n",
        "X_test, y_test1 = prepare_data(test_data1, n_steps)"
      ]
    },
    {
      "cell_type": "code",
      "execution_count": null,
      "metadata": {
        "id": "cA5E722HfOiv"
      },
      "outputs": [],
      "source": [
        "# Build TWO LSTM layers with different units (64 and 32) and activation functions (relu). \n",
        "model_lstm1 = Sequential()\n",
        "model_lstm1.add(LSTM(units=64, activation='relu', return_sequences=True, input_shape=(n_steps, 1)))\n",
        "model_lstm1.add(LSTM(units=32, activation='relu'))\n",
        "model_lstm1.add(Dense(units=1))\n",
        "model_lstm1.compile(loss='mean_squared_error', optimizer='adam')"
      ]
    },
    {
      "cell_type": "code",
      "execution_count": null,
      "metadata": {
        "colab": {
          "base_uri": "https://localhost:8080/"
        },
        "id": "02MzFCcmf5Ez",
        "outputId": "bff18f72-e8db-4503-e6dc-9c005dbdfea6"
      },
      "outputs": [
        {
          "output_type": "stream",
          "name": "stdout",
          "text": [
            "Epoch 1/10\n",
            "13/13 [==============================] - 4s 7ms/step - loss: 0.1560\n",
            "Epoch 2/10\n",
            "13/13 [==============================] - 0s 9ms/step - loss: 0.1672\n",
            "Epoch 3/10\n",
            "13/13 [==============================] - 0s 6ms/step - loss: 0.1545\n",
            "Epoch 4/10\n",
            "13/13 [==============================] - 0s 5ms/step - loss: 0.1545\n",
            "Epoch 5/10\n",
            "13/13 [==============================] - 0s 5ms/step - loss: 0.1541\n",
            "Epoch 6/10\n",
            "13/13 [==============================] - 0s 5ms/step - loss: 0.1539\n",
            "Epoch 7/10\n",
            "13/13 [==============================] - 0s 6ms/step - loss: 0.1539\n",
            "Epoch 8/10\n",
            "13/13 [==============================] - 0s 6ms/step - loss: 0.1538\n",
            "Epoch 9/10\n",
            "13/13 [==============================] - 0s 6ms/step - loss: 0.1538\n",
            "Epoch 10/10\n",
            "13/13 [==============================] - 0s 6ms/step - loss: 0.1537\n"
          ]
        },
        {
          "output_type": "execute_result",
          "data": {
            "text/plain": [
              "<keras.callbacks.History at 0x7fbadb4ade40>"
            ]
          },
          "metadata": {},
          "execution_count": 110
        }
      ],
      "source": [
        "model_lstm1.fit(X_train, y_train, epochs=10, batch_size=16)"
      ]
    },
    {
      "cell_type": "code",
      "execution_count": null,
      "metadata": {
        "colab": {
          "base_uri": "https://localhost:8080/"
        },
        "id": "7fey4SMmf5Bu",
        "outputId": "a9e4bc3b-7943-4d85-cfd9-1842d9fc7f66"
      },
      "outputs": [
        {
          "output_type": "stream",
          "name": "stdout",
          "text": [
            "2/2 [==============================] - 0s 6ms/step\n"
          ]
        }
      ],
      "source": [
        "lstm_prediction1 = model_lstm1.predict(X_test).flatten()"
      ]
    },
    {
      "cell_type": "code",
      "execution_count": null,
      "metadata": {
        "colab": {
          "base_uri": "https://localhost:8080/"
        },
        "id": "VNxHSIQAf4_m",
        "outputId": "383637d9-2e80-4b0f-91fe-b911791d1066"
      },
      "outputs": [
        {
          "output_type": "stream",
          "name": "stdout",
          "text": [
            "7/7 [==============================] - 0s 3ms/step\n"
          ]
        }
      ],
      "source": [
        "lstm_train_prediction1 = model_lstm1.predict(X_train).flatten()"
      ]
    },
    {
      "cell_type": "code",
      "execution_count": null,
      "metadata": {
        "id": "lR9Eupf0jrlO"
      },
      "outputs": [],
      "source": []
    },
    {
      "cell_type": "code",
      "execution_count": null,
      "metadata": {
        "id": "fIvFmsylf49S"
      },
      "outputs": [],
      "source": [
        "resized_lstm_train_prediction1 = np.resize(lstm_train_prediction1, (198))"
      ]
    },
    {
      "cell_type": "code",
      "execution_count": null,
      "metadata": {
        "id": "-kZ4NKqfgM2C"
      },
      "outputs": [],
      "source": [
        "#establishing ARIMAX+LSTM models\n",
        "integrated_train_predictions_lstm1 = (train_predictions + resized_lstm_train_prediction1)"
      ]
    },
    {
      "cell_type": "code",
      "execution_count": null,
      "metadata": {
        "colab": {
          "base_uri": "https://localhost:8080/"
        },
        "id": "-LGjN_yNgMwl",
        "outputId": "525358b2-3f5b-41dd-bcd7-903dd023bbcd"
      },
      "outputs": [
        {
          "output_type": "stream",
          "name": "stdout",
          "text": [
            "Evaluation Metrics for Integrated Train Set:\n",
            "RMSE: 11.304821258302686\n",
            "MAE: 1.098531400024231\n",
            "MAPE: 0.6966136475771907\n"
          ]
        }
      ],
      "source": [
        "# Calculate evaluation metrics (RMSE, MAE, MAPE) for ARIMAX+LSTM test predictions\n",
        "integrated_rmse = np.sqrt(mean_squared_error(train_y, integrated_train_predictions_lstm1))\n",
        "integrated_mae = mean_absolute_error(train_y, integrated_train_predictions_lstm1)\n",
        "integrated_mape = np.mean(np.abs((train_y - integrated_train_predictions_lstm1) / train_y)) * 100\n",
        "\n",
        "print(\"Evaluation Metrics for Integrated Train Set:\")\n",
        "print(\"RMSE:\", integrated_rmse)\n",
        "print(\"MAE:\", integrated_mae)\n",
        "print(\"MAPE:\", integrated_mape)"
      ]
    },
    {
      "cell_type": "code",
      "execution_count": null,
      "metadata": {
        "id": "Uxi5PTTWgMq3"
      },
      "outputs": [],
      "source": [
        "resized_lstm_prediction1 = np.resize(lstm_prediction1, (50,))"
      ]
    },
    {
      "cell_type": "code",
      "execution_count": null,
      "metadata": {
        "id": "I6TtjjXKjzVD"
      },
      "outputs": [],
      "source": [
        "integrated_test_predictions_lstm1 = (predictions + resized_lstm_prediction1)"
      ]
    },
    {
      "cell_type": "code",
      "execution_count": null,
      "metadata": {
        "colab": {
          "base_uri": "https://localhost:8080/"
        },
        "id": "hBWzdPzQgUfx",
        "outputId": "e5bccd4c-8062-4744-bf70-d685bc004fdd"
      },
      "outputs": [
        {
          "output_type": "stream",
          "name": "stdout",
          "text": [
            "Evaluation Metrics for Integrated Test Set:\n",
            "RMSE: 0.5189496125341756\n",
            "MAE: 0.38211121105666224\n",
            "MAPE: 0.25505100867943287\n"
          ]
        }
      ],
      "source": [
        "# Calculate evaluation metrics (RMSE, MAE, MAPE) for integrated test predictions\n",
        "integrated_rmse = np.sqrt(mean_squared_error(test_y, integrated_test_predictions_lstm1))\n",
        "integrated_mae = mean_absolute_error(test_y, integrated_test_predictions_lstm1)\n",
        "integrated_mape = np.mean(np.abs((test_y - integrated_test_predictions_lstm1) / test_y)) * 100\n",
        "\n",
        "print(\"Evaluation Metrics for Integrated Test Set:\")\n",
        "print(\"RMSE:\", integrated_rmse)\n",
        "print(\"MAE:\", integrated_mae)\n",
        "print(\"MAPE:\", integrated_mape)"
      ]
    },
    {
      "cell_type": "code",
      "execution_count": null,
      "metadata": {
        "id": "32Xb4X1ugUcp"
      },
      "outputs": [],
      "source": [
        "#Importing copula models.\n",
        "# Note : A generic copula has been use to automatically detect the best copula family for the data.\n",
        "\n",
        "from copulas.univariate import BetaUnivariate, GammaUnivariate, GaussianUnivariate, StudentTUnivariate"
      ]
    },
    {
      "cell_type": "code",
      "execution_count": null,
      "metadata": {
        "id": "QzopuhArgUWK"
      },
      "outputs": [],
      "source": [
        "#Instatntiating the copula model\n",
        "copula = StudentTUnivariate()"
      ]
    },
    {
      "cell_type": "code",
      "execution_count": null,
      "metadata": {
        "id": "5RfvYM_pgbAz"
      },
      "outputs": [],
      "source": [
        "#Fitting the copula model\n",
        "copula.fit(residuals)"
      ]
    },
    {
      "cell_type": "code",
      "execution_count": null,
      "metadata": {
        "colab": {
          "base_uri": "https://localhost:8080/"
        },
        "id": "xRPWulVmga9n",
        "outputId": "04c75fc4-f6f4-4fa2-dd6d-079faf393a7a"
      },
      "outputs": [
        {
          "output_type": "execute_result",
          "data": {
            "text/plain": [
              "{'df': 2.5504377265870906,\n",
              " 'loc': -0.008044818993257586,\n",
              " 'scale': 0.296646661926558}"
            ]
          },
          "metadata": {},
          "execution_count": 121
        }
      ],
      "source": [
        "#Copula parameters\n",
        "copula._params"
      ]
    },
    {
      "cell_type": "code",
      "execution_count": null,
      "metadata": {
        "id": "rzRJKxlMgmpT"
      },
      "outputs": [],
      "source": [
        "#Simulating a synthetic data from the copula model\n",
        "simulated = copula.sample(len(integrated_test_predictions2))"
      ]
    },
    {
      "cell_type": "code",
      "execution_count": null,
      "metadata": {
        "id": "NLN5mMQfgqfO"
      },
      "outputs": [],
      "source": [
        "#Second Simulation\n",
        "simulated2 = copula.sample(len(train_predictions))"
      ]
    },
    {
      "cell_type": "code",
      "execution_count": null,
      "metadata": {
        "id": "2VQltzy2gqZi"
      },
      "outputs": [],
      "source": [
        "#Integrating copula into the hybrid ARIMAX-NN models\n",
        "Total_combined_ANN_test = integrated_test_predictions2 + simulated"
      ]
    },
    {
      "cell_type": "code",
      "execution_count": null,
      "metadata": {
        "colab": {
          "base_uri": "https://localhost:8080/"
        },
        "id": "19OHZJEEgy0B",
        "outputId": "29463c0a-47d6-435f-a886-448e8ce5206a"
      },
      "outputs": [
        {
          "output_type": "stream",
          "name": "stdout",
          "text": [
            "Evaluation Metrics for NN Test Set:\n",
            "RMSE: 0.5189496125341756\n",
            "MAE: 0.38211121105666224\n",
            "MAPE: 0.25505100867943287\n"
          ]
        }
      ],
      "source": [
        "# Calculate evaluation metrics (RMSE, MAE, MAPE) for ARIMAX+NN+COPULA test predictions\n",
        "Total_ANN_rmse = np.sqrt(mean_squared_error(test_y, Total_combined_ANN_test))\n",
        "Total_ANN_MAE = mean_absolute_error(test_y, Total_combined_ANN_test)\n",
        "Total_ANN_MAPE = np.mean(np.abs((test_y - Total_combined_ANN_test) / test_y)) * 100\n",
        "\n",
        "print(\"Evaluation Metrics for NN Test Set:\")\n",
        "print(\"RMSE:\", integrated_rmse)\n",
        "print(\"MAE:\", integrated_mae)\n",
        "print(\"MAPE:\", integrated_mape)"
      ]
    },
    {
      "cell_type": "code",
      "execution_count": null,
      "metadata": {
        "id": "uFd1eKx9g28R"
      },
      "outputs": [],
      "source": [
        "#Integrating Copula into hybrid ARIMAZ-LSTM\n",
        "Total_combined_lstm_test = simulated + integrated_test_predictions_lstm1"
      ]
    },
    {
      "cell_type": "code",
      "execution_count": null,
      "metadata": {
        "colab": {
          "base_uri": "https://localhost:8080/"
        },
        "id": "afJa0wwrg25T",
        "outputId": "5012390e-9af8-4381-c4b8-76139baa2659"
      },
      "outputs": [
        {
          "output_type": "stream",
          "name": "stdout",
          "text": [
            "Evaluation Metrics for LSTM Test Set:\n",
            "RMSE: 0.5189496125341756\n",
            "MAE: 0.38211121105666224\n",
            "MAPE: 0.25505100867943287\n"
          ]
        }
      ],
      "source": [
        "# Calculate evaluation metrics (RMSE, MAE, MAPE) for ARIMAX+LSTM+COPULA test predictions\n",
        "Total_ANN_rmse = np.sqrt(mean_squared_error(test_y, Total_combined_lstm_test))\n",
        "Total_ANN_MAE = mean_absolute_error(test_y, Total_combined_lstm_test)\n",
        "Total_ANN_MAPE = np.mean(np.abs((test_y - Total_combined_lstm_test) / test_y)) * 100\n",
        "\n",
        "print(\"Evaluation Metrics for LSTM Test Set:\")\n",
        "print(\"RMSE:\", integrated_rmse)\n",
        "print(\"MAE:\", integrated_mae)\n",
        "print(\"MAPE:\", integrated_mape)"
      ]
    },
    {
      "cell_type": "code",
      "execution_count": null,
      "metadata": {
        "id": "2SYNfVqDg220"
      },
      "outputs": [],
      "source": [
        "#Integrating copula for the train set(ARIMAX+ANN+COPULA)\n",
        "Total_combined_ANN_train = simulated2 + integrated_train_predictions2"
      ]
    },
    {
      "cell_type": "code",
      "execution_count": null,
      "metadata": {
        "colab": {
          "base_uri": "https://localhost:8080/"
        },
        "id": "f1qUtFfOgywu",
        "outputId": "23de89e8-5333-4fc8-8ca2-ab068a836e22"
      },
      "outputs": [
        {
          "output_type": "stream",
          "name": "stdout",
          "text": [
            "Evaluation Metrics for NN train Set:\n",
            "RMSE: 11.547375101809292\n",
            "MAE: 2.81758771463548\n",
            "MAPE: 1.8074161133043478\n"
          ]
        }
      ],
      "source": [
        "# Calculate evaluation metrics (RMSE, MAE, MAPE) for integrated train set\n",
        "integrated_rmse = np.sqrt(mean_squared_error(train_y, Total_combined_ANN_train))\n",
        "integrated_mae = mean_absolute_error(train_y, Total_combined_ANN_train)\n",
        "integrated_mape = np.mean(np.abs((train_y - Total_combined_ANN_train) / train_y)) * 100\n",
        "\n",
        "print(\"Evaluation Metrics for NN train Set:\")\n",
        "print(\"RMSE:\", integrated_rmse)\n",
        "print(\"MAE:\", integrated_mae)\n",
        "print(\"MAPE:\", integrated_mape)"
      ]
    },
    {
      "cell_type": "code",
      "execution_count": null,
      "metadata": {
        "id": "lMYxIXT-gyuL"
      },
      "outputs": [],
      "source": [
        "#Integrating COPULA\n",
        "Total_combined_lstm_train = simulated2 + integrated_train_predictions_lstm1"
      ]
    },
    {
      "cell_type": "code",
      "execution_count": null,
      "metadata": {
        "colab": {
          "base_uri": "https://localhost:8080/"
        },
        "id": "bCrLYwDbhHWa",
        "outputId": "364e52cd-8603-441f-9e99-5ae105ed82fb"
      },
      "outputs": [
        {
          "output_type": "stream",
          "name": "stdout",
          "text": [
            "Evaluation Metrics for LSTM train Set:\n",
            "RMSE: 11.379976488491737\n",
            "MAE: 1.2937087869442645\n",
            "MAPE: 0.8227198314739349\n"
          ]
        }
      ],
      "source": [
        "# Calculate evaluation metrics (RMSE, MAE, MAPE) for integrated test predictions\n",
        "integrated_rmse = np.sqrt(mean_squared_error(train_y, Total_combined_lstm_train))\n",
        "integrated_mae = mean_absolute_error(train_y, Total_combined_lstm_train)\n",
        "integrated_mape = np.mean(np.abs((train_y - Total_combined_lstm_train) / train_y)) * 100\n",
        "\n",
        "print(\"Evaluation Metrics for LSTM train Set:\")\n",
        "print(\"RMSE:\", integrated_rmse)\n",
        "print(\"MAE:\", integrated_mae)\n",
        "print(\"MAPE:\", integrated_mape)"
      ]
    },
    {
      "cell_type": "code",
      "source": [
        "def compute_log_likelihood(y, y_pred, sigma):\n",
        "    train_residuals = y - y_pred\n",
        "    log_likelihood = -0.5 * np.sum(np.log(2 * np.pi) + np.log(sigma) + (train_residuals ** 2) / sigma ** 2)\n",
        "    return log_likelihood"
      ],
      "metadata": {
        "id": "l3GSHFZwKCzY"
      },
      "execution_count": null,
      "outputs": []
    },
    {
      "cell_type": "code",
      "source": [
        "def compute_aic_bic(y_train, y_pred, n_params):\n",
        "    n = len(y)  # number of observations\n",
        "    \n",
        "    # Compute the residuals\n",
        "    train_residuals = y - y_pred\n",
        "    sigma = np.std(train_residuals)\n",
        "    \n",
        "    # Compute the log-likelihood\n",
        "    log_likelihood = compute_log_likelihood(y, y_pred, sigma)\n",
        "    \n",
        "    # Compute AIC and BIC\n",
        "    aic = (2 * n_params - 2 * log_likelihood)/4\n",
        "    bic = (np.log(n) * n_params - 2 * log_likelihood)/4\n",
        "    \n",
        "    return aic, bic"
      ],
      "metadata": {
        "id": "6KBWHIiPKCij"
      },
      "execution_count": null,
      "outputs": []
    },
    {
      "cell_type": "code",
      "source": [
        "aic, bic = compute_aic_bic(train_y, Total_combined_ANN_train, 2)\n",
        "\n",
        "print(\"AIC:\", aic)\n",
        "print(\"BIC:\", bic)"
      ],
      "metadata": {
        "colab": {
          "base_uri": "https://localhost:8080/"
        },
        "id": "_i2Rop7VKVTj",
        "outputId": "4946b009-b96f-4083-f8fa-7e6455cead37"
      },
      "execution_count": null,
      "outputs": [
        {
          "output_type": "stream",
          "name": "stdout",
          "text": [
            "AIC: 264.1890197917562\n",
            "BIC: 265.9457341648387\n"
          ]
        }
      ]
    },
    {
      "cell_type": "code",
      "execution_count": null,
      "metadata": {
        "colab": {
          "base_uri": "https://localhost:8080/",
          "height": 564
        },
        "id": "_syOp6NlhHTS",
        "outputId": "4d62068c-310d-4f36-995a-f057ccbd143f"
      },
      "outputs": [
        {
          "output_type": "display_data",
          "data": {
            "text/plain": [
              "<Figure size 1000x600 with 1 Axes>"
            ],
            "image/png": "[encoded data removed]"
          },
          "metadata": {}
        }
      ],
      "source": [
        "plt.figure(figsize=(10, 6))\n",
        "plt.plot(Total_combined_lstm_test, label='Predictions')\n",
        "plt.plot(test_y, label='Actual')\n",
        "plt.xlabel('Time')\n",
        "plt.ylabel('Value')\n",
        "plt.title('Predictions vs Actual (ARIMAX+ANN+COPULA)')\n",
        "plt.legend()\n",
        "plt.show()"
      ]
    },
    {
      "cell_type": "code",
      "execution_count": null,
      "metadata": {
        "id": "fdDqHNhehN_f"
      },
      "outputs": [],
      "source": []
    },
    {
      "cell_type": "code",
      "execution_count": null,
      "metadata": {
        "id": "VywqgcSYhN8O"
      },
      "outputs": [],
      "source": []
    },
    {
      "cell_type": "code",
      "execution_count": null,
      "metadata": {
        "id": "jk5FFouNhN5i"
      },
      "outputs": [],
      "source": []
    }
  ],
  "metadata": {
    "colab": {
      "provenance": []
    },
    "kernelspec": {
      "display_name": "Python 3",
      "name": "python3"
    },
    "language_info": {
      "name": "python"
    }
  },
  "nbformat": 4,
  "nbformat_minor": 0
}